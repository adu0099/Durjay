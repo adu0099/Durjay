{
 "cells": [
  {
   "cell_type": "code",
   "execution_count": null,
   "id": "bedfe093",
   "metadata": {},
   "outputs": [
    {
     "name": "stdout",
     "output_type": "stream",
     "text": [
      " * Serving Flask app '__main__'\n",
      " * Debug mode: off\n"
     ]
    },
    {
     "name": "stderr",
     "output_type": "stream",
     "text": [
      "WARNING: This is a development server. Do not use it in a production deployment. Use a production WSGI server instead.\n",
      " * Running on http://localhost:4000\n",
      "Press CTRL+C to quit\n",
      "127.0.0.1 - - [19/Dec/2023 11:55:17] \"GET / HTTP/1.1\" 200 -\n",
      "127.0.0.1 - - [19/Dec/2023 11:56:28] \"POST /predict HTTP/1.1\" 200 -\n"
     ]
    }
   ],
   "source": [
    "import numpy as np\n",
    "from flask import Flask, request, render_template\n",
    "import pickle\n",
    "\n",
    "app = Flask(__name__)\n",
    "model = pickle.load(open('pickle.pkl', 'rb'))\n",
    "    \n",
    "@app.route('/')\n",
    "def home():\n",
    "    return render_template('new_home.html')\n",
    "   \n",
    "\n",
    "@app.route('/predict', methods=['POST'])\n",
    "def predict():\n",
    "    if request.method == 'POST':\n",
    "        \n",
    "        step=int(request.form[\"step\"])\n",
    "        Type=int(request.form[\"Type\"])\n",
    "        amount=float(request.form[\"amount\"])\n",
    "        oldbalanceOrg=float(request.form[\"oldbalanceOrg\"])\n",
    "        newbalanceOrig=float(request.form[\"newbalanceOrig\"])\n",
    "        oldbalanceDest=float(request.form[\"oldbalanceDest\"])\n",
    "        newbalanceDest=float(request.form[\"newbalanceDest\"])\n",
    "       \n",
    "        \n",
    "                      \n",
    "        data = np.array([[step,Type,amount,oldbalanceOrg,newbalanceOrig,oldbalanceDest,newbalanceDest]])\n",
    "        my_prediction = model.predict(data)\n",
    "        \n",
    "        return render_template('new_result.html', prediction=my_prediction)\n",
    "              \n",
    "if __name__ == '__main__':\n",
    "    app.run(host=\"localhost\", port=4000)"
   ]
  },
  {
   "cell_type": "code",
   "execution_count": null,
   "id": "17a9d928",
   "metadata": {},
   "outputs": [],
   "source": []
  }
 ],
 "metadata": {
  "kernelspec": {
   "display_name": "Python 3 (ipykernel)",
   "language": "python",
   "name": "python3"
  },
  "language_info": {
   "codemirror_mode": {
    "name": "ipython",
    "version": 3
   },
   "file_extension": ".py",
   "mimetype": "text/x-python",
   "name": "python",
   "nbconvert_exporter": "python",
   "pygments_lexer": "ipython3",
   "version": "3.11.2"
  }
 },
 "nbformat": 4,
 "nbformat_minor": 5
}
